{
 "cells": [
  {
   "cell_type": "markdown",
   "metadata": {},
   "source": [
    "# Exporting ArcGIS Symbology Labels to CSV"
   ]
  },
  {
   "cell_type": "markdown",
   "metadata": {},
   "source": [
    "ArcGIS does not have a built-in feature for exporting symbology unique value classes and their correspondent text labels onto a tabular format. This tool allows you to convert a layer file with .lyrx extension to CSV.\n",
    "\n",
    "## Instructions\n",
    "1. In the contents pane, right-click on the feature layer, choose **Sharing** and then **Save as Layer File**\n",
    "2. Save a new later file\n",
    "3. Call the **symbToCSV** function in the attached jupyter notebook, pass the following arguments:\n",
    "    1. inputLyrx (str): Input ArcGIS symbology file name, lyrx file extension included.\n",
    "    2. outputCSV (str): Output CSV file name, csv file extension included.\n"
   ]
  },
  {
   "cell_type": "code",
   "execution_count": 206,
   "metadata": {},
   "outputs": [],
   "source": [
    "import pandas as pd\n",
    "\n",
    "def symbToCSV(inputLyrx,outputCSV):\n",
    "    \"\"\"\n",
    "    Convert an ArcGIS layer files with .lyrx extension into\n",
    "    a CSV file with values and their correspondent text label.\n",
    "    This function works proparly only with unique value classes.\n",
    "    \n",
    "    Args:\n",
    "        inputLyrx (str): Input ArcGIS synbology file name, lyrx file\n",
    "                         extension included.\n",
    "        outputCSV (str): Output CSV file name, csv file extension included.\n",
    "\n",
    "    Returns:\n",
    "        None \n",
    "    \"\"\"\n",
    "    try:\n",
    "        # create a list of inputs\n",
    "        inputs = [inputLyrx,outputCSV]\n",
    "        # iterate over the list to identify invalid inputs\n",
    "        for inp in inputs:\n",
    "            if (type(inp)!=type('') or inp==''):\n",
    "                raise Exception('Input error:{} should be a valid string'.format(inp))\n",
    "        if (inputLyrx[-4:].lower() != 'lyrx'):\n",
    "            raise Exception('Error: Please specify valid .lyrx file extention')\n",
    "        if (outputCSV[-3:].lower() != 'csv'):\n",
    "            raise Exception('Error: Please specify valid .csv file extention')\n",
    "        # read the lyrx file\n",
    "        rawLyrx = pd.read_json(inputLyrx)\n",
    "        # create empty lists for values and labels\n",
    "        value = []\n",
    "        label = []\n",
    "        # iterate over the lyrx and append elements to the value and label lists\n",
    "        for i in rawLyrx.layerDefinitions[0]['renderer']['groups'][0]['classes']:\n",
    "            if(i['type'] != 'CIMUniqueValueClass'):\n",
    "                raise Exception('This function works proparly only with unique value classes')\n",
    "            label.append(i['label'])\n",
    "            value.append(i['values'][0]['fieldValues'][0])\n",
    "        # create a pandas dataframe from these two lists\n",
    "        df = pd.DataFrame(list(zip(value, label)), columns =['value', 'label'])\n",
    "        # export the dataframe to external csv file\n",
    "        df.to_csv(outputCSV, encoding='utf-8', index = False)\n",
    "        # print confirmation message\n",
    "        print(outputCSV,'was exported successfully')\n",
    "    except Exception as e:\n",
    "        # print error message\n",
    "        print(e)"
   ]
  }
 ],
 "metadata": {
  "kernelspec": {
   "display_name": "Python 3",
   "language": "python",
   "name": "python3"
  },
  "language_info": {
   "codemirror_mode": {
    "name": "ipython",
    "version": 3
   },
   "file_extension": ".py",
   "mimetype": "text/x-python",
   "name": "python",
   "nbconvert_exporter": "python",
   "pygments_lexer": "ipython3",
   "version": "3.7.7"
  }
 },
 "nbformat": 4,
 "nbformat_minor": 4
}
